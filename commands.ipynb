
{
 "cells": [
  {
   "cell_type": "markdown",
   "metadata": {},
   "source": [
    "# Linux tools examples"
   ]
  },
  {
   "cell_type": "markdown",
   "metadata": {},
   "source": [
    "Demonstration of Linux text processing tools"
   ]
  },

  {
   "cell_type": "markdown",
   "metadata": {},
   "source": [
   "### awk"
   ]
  },
  {
   "cell_type": "code",
   "execution_count": null,
   "metadata": {},
   "outputs": [],
   "source": [
   "cd awk"
   ]
  },
  {
   "cell_type": "code",
   "execution_count": null,
   "metadata": {},
   "outputs": [],
   "source": [
   "%%bash\n",
   "cat people.txt\n",
   "echo\n",
   "\n",
   "awk '{print $1, $3, $NF}' people.txt\n",
   "echo\n",
   "\n",
   "awk '{print $NF}' ragged.txt\n",
   "echo\n",
   "\n",
   "awk '{print $1 \" favorite food is \" $3}' people.txt\n",
   "echo\n",
   "\n",
   "awk '/pizza/ {print $1, $3}' people.txt\n",
   "echo\n",
   "\n",
   "cat states.txt\n",
   "echo\n",
   "\n",
   "awk -F ',' '{print $1 \" state bird is \" $3}' states.txt\n",
   "echo\n",
   "\n",
   "awk '{sum=$1+$2; prod=$1*$2; print $1, $2, sum, prod}' numbers.txt\n",
   "echo\n",
   "\n",
   "awk '{sin1=sin($1); cos2=cos($2); print $1, $2, sin1, cos2}' numbers.txt\n",
   "echo\n",
   "\n",
   "awk '{log1=log($1); sqrt2=sqrt($2); print $1, $2, log1, sqrt2}' numbers.txt\n",
   "echo\n",
   "\n",
   "awk 'BEGIN {PI=3.14159; print \" x y sin(x) cos(y)\"} {sin1=sin($1*PI); cos2=cos($2*PI); printf \"%4.1f %4.1f %7.4f %7.4f\n\", $1, $2, sin1, cos2}' numbers.txt\n",
   "echo\n",
   "\n",
   "awk '{s1+=$1; s2+=$2; print} END {print s1/NR, s2/NR}' numbers.txt\n",
   "echo\n",
   "\n",
   "\n"
   ]
  },
  {
   "cell_type": "code",
   "execution_count": null,
   "metadata": {},
   "outputs": [],
   "source": [
   "cd .."
   ]
  },
  {
   "cell_type": "markdown",
   "metadata": {},
   "source": [
   "### grep"
   ]
  },
  {
   "cell_type": "code",
   "execution_count": null,
   "metadata": {},
   "outputs": [],
   "source": [
   "cd grep"
   ]
  },
  {
   "cell_type": "code",
   "execution_count": null,
   "metadata": {},
   "outputs": [],
   "source": [
   "%%bash\n",
   "grep banana file1.txt\n",
   "echo\n",
   "\n",
   "grep Banana file1.txt\n",
   "echo\n",
   "\n",
   "grep -i banana file1.txt\n",
   "echo\n",
   "\n",
   "grep -B 3 kumquat file1.txt\n",
   "echo\n",
   "\n",
   "grep -A 2 kumquat file1.txt\n",
   "echo\n",
   "\n",
   "grep lime *.txt\n",
   "echo\n",
   "\n",
   "grep -v lime *.txt\n",
   "echo\n",
   "\n",
   "grep lime *.txt\n",
   "echo\n",
   "\n",
   "grep -c lime *.txt\n",
   "echo\n",
   "\n",
   "grep -l kumquat *.txt\n",
   "echo\n",
   "\n",
   "grep -L kumquat *.txt\n",
   "echo\n",
   "\n",
   "grep pear file1.txt\n",
   "echo\n",
   "\n",
   "grep '^pear' file1.txt\n",
   "echo\n",
   "\n",
   "grep 'pear$' file1.txt\n",
   "echo\n",
   "\n",
   "\n"
   ]
  },
  {
   "cell_type": "code",
   "execution_count": null,
   "metadata": {},
   "outputs": [],
   "source": [
   "cd .."
   ]
  },
  {
   "cell_type": "markdown",
   "metadata": {},
   "source": [
   "### split"
   ]
  },
  {
   "cell_type": "code",
   "execution_count": null,
   "metadata": {},
   "outputs": [],
   "source": [
   "cd split"
   ]
  },
  {
   "cell_type": "code",
   "execution_count": null,
   "metadata": {},
   "outputs": [],
   "source": [
   "%%bash\n",
   "# Look in the split directory to see results of splitting FASTA file\n",
   "echo\n",
   "\n",
   "split genome.fasta\n",
   "echo\n",
   "\n",
   "split -l 2000 genome.fasta genome_v1_\n",
   "echo\n",
   "\n",
   "split -l 200 -t '>' genome.fasta genome_v2_ # Does not work on MacOS\n",
   "echo\n",
   "\n",
   "\n"
   ]
  },
  {
   "cell_type": "code",
   "execution_count": null,
   "metadata": {},
   "outputs": [],
   "source": [
   "cd .."
   ]
  },
  {
   "cell_type": "markdown",
   "metadata": {},
   "source": [
   "### sort"
   ]
  },
  {
   "cell_type": "code",
   "execution_count": null,
   "metadata": {},
   "outputs": [],
   "source": [
   "cd sort"
   ]
  },
  {
   "cell_type": "code",
   "execution_count": null,
   "metadata": {},
   "outputs": [],
   "source": [
   "%%bash\n",
   "sort unsorted1.txt\n",
   "echo\n",
   "\n",
   "export LC_ALL=C; sort unsorted1.txt; export LC_ALL=''\n",
   "echo\n",
   "\n",
   "sort -k3 unsorted2.txt\n",
   "echo\n",
   "\n",
   "sort -k2 unsorted2.txt\n",
   "echo\n",
   "\n",
   "sort -k2 -n unsorted2.txt\n",
   "echo\n",
   "\n",
   "sort -u unsorted1.txt\n",
   "echo\n",
   "\n",
   "sort -k3,3 -k1,1 -k2,2 unsorted3.txt\n",
   "echo\n",
   "\n",
   "sort -k2r,2 -k1,1 -k3,3 unsorted3.txt\n",
   "echo\n",
   "\n",
   "sort -R abc.txt\n",
   "echo\n",
   "\n",
   "shuf abc.txt\n",
   "echo\n",
   "\n",
   "seq 9 | shuf\n",
   "echo\n",
   "\n",
   "\n"
   ]
  },
  {
   "cell_type": "code",
   "execution_count": null,
   "metadata": {},
   "outputs": [],
   "source": [
   "cd .."
   ]
  },
  {
   "cell_type": "markdown",
   "metadata": {},
   "source": [
   "### sed"
   ]
  },
  {
   "cell_type": "code",
   "execution_count": null,
   "metadata": {},
   "outputs": [],
   "source": [
   "cd sed"
   ]
  },
  {
   "cell_type": "code",
   "execution_count": null,
   "metadata": {},
   "outputs": [],
   "source": [
   "%%bash\n",
   "sed s'/pear/XXXX/' file1.txt\n",
   "echo\n",
   "\n",
   "sed s'/pear/XXXX/g' file1.txt\n",
   "echo\n",
   "\n",
   "sed s'/^pear/XXXX/' file1.txt\n",
   "echo\n",
   "\n",
   "sed s'/pear$/XXXX/' file1.txt\n",
   "echo\n",
   "\n",
   "sed -n '5'p file2.txt\n",
   "echo\n",
   "\n",
   "sed -n '3,5'p file2.txt\n",
   "echo\n",
   "\n",
   "sed -n '2~3'p file2.txt # Does not work on MacOS\n",
   "echo\n",
   "\n",
   "head -2 file1.txt > file3.txt\n",
   "echo\n",
   "\n",
   "sed s'/pear/XXXX/' file3.txt > file3.txt\n",
   "echo\n",
   "\n",
   "cat file3.txt\n",
   "echo\n",
   "\n",
   "head -2 file1.txt > file3.txt\n",
   "echo\n",
   "\n",
   "sed -i s'/pear/XXXX/' file3.txt\n",
   "echo\n",
   "\n",
   "cat file3.txt\n",
   "echo\n",
   "\n",
   "\n"
   ]
  },
  {
   "cell_type": "code",
   "execution_count": null,
   "metadata": {},
   "outputs": [],
   "source": [
   "cd .."
   ]
  },
  {
   "cell_type": "markdown",
   "metadata": {},
   "source": [
   "### head-and-tail"
   ]
  },
  {
   "cell_type": "code",
   "execution_count": null,
   "metadata": {},
   "outputs": [],
   "source": [
   "cd head-and-tail"
   ]
  },
  {
   "cell_type": "code",
   "execution_count": null,
   "metadata": {},
   "outputs": [],
   "source": [
   "%%bash\n",
   "head file.txt\n",
   "echo\n",
   "\n",
   "tail file.txt\n",
   "echo\n",
   "\n",
   "head -n 7 file.txt\n",
   "echo\n",
   "\n",
   "tail -n 7 file.txt\n",
   "echo\n",
   "\n",
   "head -n -15 file.txt # Does not work on MacOS\n",
   "echo\n",
   "\n",
   "tail -n +16 file.txt\n",
   "echo\n",
   "\n",
   "\n",
   "\n"
   ]
  },
  {
   "cell_type": "code",
   "execution_count": null,
   "metadata": {},
   "outputs": [],
   "source": [
   "cd .."
   ]
  },
  {
   "cell_type": "markdown",
   "metadata": {},
   "source": [
   "### paste"
   ]
  },
  {
   "cell_type": "code",
   "execution_count": null,
   "metadata": {},
   "outputs": [],
   "source": [
   "cd paste"
   ]
  },
  {
   "cell_type": "code",
   "execution_count": null,
   "metadata": {},
   "outputs": [],
   "source": [
   "%%bash\n",
   "paste fruits.txt colors.txt\n",
   "echo\n",
   "\n",
   "paste -d ',' fruits.txt colors.txt\n",
   "echo\n",
   "\n",
   "\n"
   ]
  },
  {
   "cell_type": "code",
   "execution_count": null,
   "metadata": {},
   "outputs": [],
   "source": [
   "cd .."
   ]
  },
  {
   "cell_type": "markdown",
   "metadata": {},
   "source": [
   "### CaseStudyHPL"
   ]
  },
  {
   "cell_type": "code",
   "execution_count": null,
   "metadata": {},
   "outputs": [],
   "source": [
   "cd CaseStudyHPL"
   ]
  },
  {
   "cell_type": "code",
   "execution_count": null,
   "metadata": {},
   "outputs": [],
   "source": [
   "%%bash\n",
   "echo 'node time P F' # Print header\n",
   "for file in `ls output.hpl*` # Iterate over output files\n",
   "do\n",
   "node=`head -1 $file` # Node name from first line\n",
   "t=`grep WR12R2R4 $file | awk '{print $6}'` # Time from 6th field of WR12R2R4 line\n",
   "npass=`grep PASSED $file| wc -l` # Number of passed tests\n",
   "nfail=`grep FAILED $file| wc -l` # Number of failed tests\n",
   "echo $node $t $nfail $npass\n",
   "done\n",
   "\n"
   ]
  },
  {
   "cell_type": "code",
   "execution_count": null,
   "metadata": {},
   "outputs": [],
   "source": [
   "cd .."
   ]
  },
  {
   "cell_type": "markdown",
   "metadata": {},
   "source": [
   "### CaseStudyFASTA"
   ]
  },
  {
   "cell_type": "code",
   "execution_count": null,
   "metadata": {},
   "outputs": [],
   "source": [
   "cd CaseStudyFASTA"
   ]
  },
  {
   "cell_type": "code",
   "execution_count": null,
   "metadata": {},
   "outputs": [],
   "source": [
   "%%bash\n",
   "split -l 200 -t '>' genome.fasta genome_ # Does not work on MacOS\n",
   "for file in genome_*\n",
   "do\n",
   "sed 's/^sp|/>sp|/' $file > temp\n",
   "mv temp $file\n",
   "done\n",
   "\n",
   "\n"
   ]
  },
  {
   "cell_type": "code",
   "execution_count": null,
   "metadata": {},
   "outputs": [],
   "source": [
   "cd .."
   ]
  },
  {
   "cell_type": "markdown",
   "metadata": {},
   "source": [
   "### CaseStudyBERT"
   ]
  },
  {
   "cell_type": "code",
   "execution_count": null,
   "metadata": {},
   "outputs": [],
   "source": [
   "cd CaseStudyBERT"
   ]
  },
  {
   "cell_type": "code",
   "execution_count": null,
   "metadata": {},
   "outputs": [],
   "source": [
   "%%bash\n",
   "for file in `ls -1 out*`\n",
   "do\n",
   "node=`head -1 $file | awk '{print $1}'`\n",
   "card=`grep 'AIP (' $file | awk '{print $4}'`\n",
   "tstart=`grep TBEFORE $file | awk '{print $2}'`\n",
   "tend=`grep AFTER $file | awk '{print $2}'`\n",
   "corr=`grep 'Correct answers' $file | tail -1 | awk '{print $8}'` # Last instance\n",
   "ach=`grep 'Achieved sentences' $file | tail -1 | awk '{print $3}'` # Last instance\n",
   "t=$(expr $tend - $tstart) # Do math to calculate tend - tstart\n",
   "echo $node $card $corr $ach $t\n",
   "done\n",
   "\n"
   ]
  },
  {
   "cell_type": "code",
   "execution_count": null,
   "metadata": {},
   "outputs": [],
   "source": [
   "cd .."
   ]
  },

{
   "cell_type": "code",
   "execution_count": null,
   "metadata": {},
   "outputs": [],
   "source": [
    ""
   ]
  }
 ],
 "metadata": {
  "kernelspec": {
   "display_name": "Python 3",
   "language": "python",
   "name": "python3"
  },
  "language_info": {
   "codemirror_mode": {
    "name": "ipython",
    "version": 3
   },
   "file_extension": ".py",
   "mimetype": "text/x-python",
   "name": "python",
   "nbconvert_exporter": "python",
   "pygments_lexer": "ipython3",
   "version": "3.8.5"
  }
 },
 "nbformat": 4,
 "nbformat_minor": 4
}
